{
  "nbformat": 4,
  "nbformat_minor": 0,
  "metadata": {
    "colab": {
      "provenance": [],
      "authorship_tag": "ABX9TyP4iUz4nT5bhXnP+bYGEdk/",
      "include_colab_link": true
    },
    "kernelspec": {
      "name": "python3",
      "display_name": "Python 3"
    },
    "language_info": {
      "name": "python"
    }
  },
  "cells": [
    {
      "cell_type": "markdown",
      "metadata": {
        "id": "view-in-github",
        "colab_type": "text"
      },
      "source": [
        "<a href=\"https://colab.research.google.com/github/asilverparadox/CEIS209CourseProjectPart1/blob/main/python_language_basics.ipynb\" target=\"_parent\"><img src=\"https://colab.research.google.com/assets/colab-badge.svg\" alt=\"Open In Colab\"/></a>"
      ]
    },
    {
      "cell_type": "code",
      "execution_count": 3,
      "metadata": {
        "colab": {
          "base_uri": "https://localhost:8080/"
        },
        "id": "J0Eooau87EZC",
        "outputId": "4c9fc654-37a7-4de9-f426-5f61eedc67d0"
      },
      "outputs": [
        {
          "output_type": "stream",
          "name": "stdout",
          "text": [
            "False\n",
            "True\n",
            "False\n"
          ]
        }
      ],
      "source": [
        "is_game_over = False\n",
        "print(is_game_over)\n",
        "is_game_over = True\n",
        "print(is_game_over)\n",
        "is_game_over = 5 > 6\n",
        "print(is_game_over)\n"
      ]
    },
    {
      "cell_type": "code",
      "source": [
        "num_lives = 5\n",
        "print(num_lives)\n",
        "percent_health = 0.5\n",
        "print(percent_health)"
      ],
      "metadata": {
        "colab": {
          "base_uri": "https://localhost:8080/"
        },
        "id": "uyREj3bl8DFs",
        "outputId": "92574a4f-8037-4c74-ea8e-c16c1ece3756"
      },
      "execution_count": 5,
      "outputs": [
        {
          "output_type": "stream",
          "name": "stdout",
          "text": [
            "5\n",
            "0.5\n"
          ]
        }
      ]
    },
    {
      "cell_type": "code",
      "source": [
        "player_name = 'Eire'\n",
        "print(player_name)\n",
        "player_name = 'Lainey'\n",
        "print(player_name)"
      ],
      "metadata": {
        "colab": {
          "base_uri": "https://localhost:8080/"
        },
        "id": "jTfrrBbr8aHK",
        "outputId": "cc3ab93b-c49b-40f7-d02f-4061b8c3953c"
      },
      "execution_count": 7,
      "outputs": [
        {
          "output_type": "stream",
          "name": "stdout",
          "text": [
            "Eire\n",
            "Lainey\n"
          ]
        }
      ]
    },
    {
      "cell_type": "code",
      "source": [
        "print(type(is_game_over))\n",
        "print(type(num_lives))\n",
        "print(type(percent_health))\n",
        "print(type(player_name))\n",
        "\n",
        "num_lives = \"5\"\n",
        "print(type(num_lives))\n",
        "\n",
        "player_name = num_lives\n",
        "print(player_name)"
      ],
      "metadata": {
        "colab": {
          "base_uri": "https://localhost:8080/"
        },
        "id": "jAdOa8uJ8wWr",
        "outputId": "1bb51a1d-de50-490d-f43a-9993c540b5c6"
      },
      "execution_count": 10,
      "outputs": [
        {
          "output_type": "stream",
          "name": "stdout",
          "text": [
            "<class 'bool'>\n",
            "<class 'str'>\n",
            "<class 'float'>\n",
            "<class 'str'>\n",
            "<class 'str'>\n",
            "5\n"
          ]
        }
      ]
    },
    {
      "cell_type": "code",
      "source": [
        "num_lives = 5\n",
        "print(str(num_lives))\n",
        "#conversion to string\n",
        "str_num_lives = str(num_lives)\n",
        "print(type(num_lives))\n",
        "print(type(str_num_lives))"
      ],
      "metadata": {
        "colab": {
          "base_uri": "https://localhost:8080/"
        },
        "id": "68Ja_N-X95VV",
        "outputId": "0c780c11-03bd-4b0d-dea8-8946803b9a38"
      },
      "execution_count": 12,
      "outputs": [
        {
          "output_type": "stream",
          "name": "stdout",
          "text": [
            "5\n",
            "<class 'int'>\n",
            "<class 'str'>\n"
          ]
        }
      ]
    },
    {
      "cell_type": "code",
      "source": [
        "print(bool(0))\n",
        "print(bool(0.1))\n",
        "print(bool(\"afladkjf\"))\n",
        "\n",
        "#anything that is not exactly a zero when converted to a boolean will give true, otherwise it will return false\n"
      ],
      "metadata": {
        "colab": {
          "base_uri": "https://localhost:8080/"
        },
        "id": "VB0YZ_h2-100",
        "outputId": "80a0c2f9-96e0-4232-bc48-8626cd6baa93"
      },
      "execution_count": 13,
      "outputs": [
        {
          "output_type": "stream",
          "name": "stdout",
          "text": [
            "False\n",
            "True\n",
            "True\n"
          ]
        }
      ]
    },
    {
      "cell_type": "code",
      "source": [
        "#some conversions are allowed, while others are not\n",
        "# print(int(\"faldksjf\")) returns an error\n",
        "\n",
        "print(int(\"3\")) #works without crashing because 3 is an integer/number\n",
        "print(int(0.5))\n",
        "print(int(False)) #0 is a false\n",
        "print(int(True)) #1 is a true"
      ],
      "metadata": {
        "colab": {
          "base_uri": "https://localhost:8080/"
        },
        "id": "JMUKTerN_V7E",
        "outputId": "ce57a3f2-f80a-454e-c983-831d3c56d6ca"
      },
      "execution_count": 18,
      "outputs": [
        {
          "output_type": "stream",
          "name": "stdout",
          "text": [
            "3\n",
            "0\n",
            "0\n",
            "1\n"
          ]
        }
      ]
    },
    {
      "cell_type": "code",
      "source": [
        "print(float(\"2\"))\n",
        "print(float(0.5))\n",
        "print(float(False))\n",
        "print(float(True))\n",
        "#using float allows for decimal numbers and will also add a .0 to whole numbers\n"
      ],
      "metadata": {
        "colab": {
          "base_uri": "https://localhost:8080/"
        },
        "id": "JEbKKSr0ADHN",
        "outputId": "afff7563-be17-4694-a32c-88156cd89970"
      },
      "execution_count": 20,
      "outputs": [
        {
          "output_type": "stream",
          "name": "stdout",
          "text": [
            "2.0\n",
            "0.5\n",
            "0.0\n",
            "1.0\n"
          ]
        }
      ]
    },
    {
      "cell_type": "code",
      "source": [
        "#operators and operations\n",
        "#arithmetic operators\n",
        "#assignment operators\n",
        "#examples -\n",
        "health = 50\n",
        "print(health)\n",
        "health = health + 20\n",
        "print(health)\n",
        "new_health = health + 20\n",
        "print(new_health)\n",
        "\n",
        "xPos = 5\n",
        "print(xPos % 2) #modulus helps to perform division and provides the remainder\n",
        "print(xPos // 2) #// performs division and discards remainder\n",
        "print(xPos ** 2) # to the power of 2\n",
        "print(xPos)\n",
        "\n",
        "first_name = \"Eire\"\n",
        "last_name = \"Baker\"\n",
        "print(first_name + last_name)\n",
        "#in order to get a space between the strings, add \" \"\n",
        "print(first_name + \" \" + last_name)"
      ],
      "metadata": {
        "colab": {
          "base_uri": "https://localhost:8080/"
        },
        "id": "sTpLs_gvASXb",
        "outputId": "dabdb4dc-a3e6-4f61-a3e1-0a54a742ed1e"
      },
      "execution_count": 27,
      "outputs": [
        {
          "output_type": "stream",
          "name": "stdout",
          "text": [
            "50\n",
            "70\n",
            "90\n",
            "1\n",
            "2\n",
            "25\n",
            "5\n",
            "EireBaker\n",
            "Eire Baker\n"
          ]
        }
      ]
    },
    {
      "cell_type": "code",
      "source": [
        "health = 50\n",
        "health += 20 #changing the value of health (bc it's doing health = health +20)\n",
        "health -= 50\n",
        "print(health)\n",
        "\n",
        "name = \"Eire\"\n",
        "name += \" Baker\"\n",
        "print(name) #can run the same with strings, leave a space before the second string (__ LastName)\n"
      ],
      "metadata": {
        "colab": {
          "base_uri": "https://localhost:8080/"
        },
        "id": "pui6X-a2HbN5",
        "outputId": "78f90210-2095-404a-a7af-95e1122ba1dc"
      },
      "execution_count": 30,
      "outputs": [
        {
          "output_type": "stream",
          "name": "stdout",
          "text": [
            "20\n",
            "Eire Baker\n"
          ]
        }
      ]
    }
  ]
}